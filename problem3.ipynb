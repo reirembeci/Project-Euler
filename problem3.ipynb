{
 "cells": [
  {
   "cell_type": "code",
   "execution_count": 2,
   "metadata": {
    "collapsed": false
   },
   "outputs": [
    {
     "name": "stdout",
     "output_type": "stream",
     "text": [
      "6857\n",
      "--- 0.10043072700500488 seconds ---\n"
     ]
    }
   ],
   "source": [
    "import time\n",
    "import math\n",
    "l = []\n",
    "s = []\n",
    "def main(q):\n",
    "    for n in range(2, math.ceil(math.sqrt(q))):\n",
    "        if q % n == 0:\n",
    "            if (n == 2 or n % 2 != 0):\n",
    "                l.append(n)\n",
    "    for el in l:\n",
    "        for n in range(2, math.ceil(math.sqrt(el))):\n",
    "            if el % n == 0:\n",
    "                s.append(el)\n",
    "    \n",
    "    print(max((list(set(l) - set(s)))))\n",
    "\n",
    "    \n",
    "start_time = time.time()\n",
    "main(600851475143)\n",
    "print(\"--- %s seconds ---\" % (time.time() - start_time))"
   ]
  },
  {
   "cell_type": "code",
   "execution_count": null,
   "metadata": {
    "collapsed": true
   },
   "outputs": [],
   "source": []
  }
 ],
 "metadata": {
  "kernelspec": {
   "display_name": "Python 3",
   "language": "python",
   "name": "python3"
  },
  "language_info": {
   "codemirror_mode": {
    "name": "ipython",
    "version": 3
   },
   "file_extension": ".py",
   "mimetype": "text/x-python",
   "name": "python",
   "nbconvert_exporter": "python",
   "pygments_lexer": "ipython3",
   "version": "3.4.0"
  }
 },
 "nbformat": 4,
 "nbformat_minor": 0
}
