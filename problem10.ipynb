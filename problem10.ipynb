{
 "cells": [
  {
   "cell_type": "code",
   "execution_count": 1,
   "metadata": {
    "collapsed": false
   },
   "outputs": [
    {
     "name": "stdout",
     "output_type": "stream",
     "text": [
      "142913828922\n",
      "--- 18.771626472473145 seconds ---\n"
     ]
    }
   ],
   "source": [
    "import math\n",
    "import time\n",
    "def check(x):\n",
    "    for n in range(2, math.ceil(math.sqrt(x))+1):\n",
    "        if x % n == 0:\n",
    "            x = x + 2\n",
    "            return(False)\n",
    "    return(True)\n",
    "\n",
    "def primes():\n",
    "    x = 3\n",
    "    total = 5\n",
    "    while(x+2 < 2000000):\n",
    "        x = x + 2\n",
    "        if (check(x) == True):\n",
    "            total = total + x\n",
    "    print(total)\n",
    "\n",
    "start_time = time.time()                 \n",
    "primes()\n",
    "print(\"--- %s seconds ---\" % (time.time() - start_time))"
   ]
  },
  {
   "cell_type": "code",
   "execution_count": 5,
   "metadata": {
    "collapsed": false
   },
   "outputs": [
    {
     "name": "stdout",
     "output_type": "stream",
     "text": [
      "142913828922\n",
      "--- 1.3659677505493164 seconds ---\n"
     ]
    }
   ],
   "source": [
    "# Internet improved version\n",
    "# Using the Sieve of Eratosthenes(never heard about it before this exercise)\n",
    "import time\n",
    "start_time = time.time()                 \n",
    "\n",
    "marked = [0] * 2000000 \n",
    "value = 3 \n",
    "s = 2 \n",
    "while value < 2000000: \n",
    "    if marked[value] == 0: \n",
    "        s += value \n",
    "        i = value \n",
    "        while i < 2000000: \n",
    "            marked[i] = 1 \n",
    "            i += value \n",
    "    value += 2\n",
    "print(s)\n",
    "print(\"--- %s seconds ---\" % (time.time() - start_time))"
   ]
  },
  {
   "cell_type": "code",
   "execution_count": null,
   "metadata": {
    "collapsed": true
   },
   "outputs": [],
   "source": []
  }
 ],
 "metadata": {
  "kernelspec": {
   "display_name": "Python 3",
   "language": "python",
   "name": "python3"
  },
  "language_info": {
   "codemirror_mode": {
    "name": "ipython",
    "version": 3
   },
   "file_extension": ".py",
   "mimetype": "text/x-python",
   "name": "python",
   "nbconvert_exporter": "python",
   "pygments_lexer": "ipython3",
   "version": "3.4.0"
  }
 },
 "nbformat": 4,
 "nbformat_minor": 0
}
