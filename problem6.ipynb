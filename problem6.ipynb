{
 "cells": [
  {
   "cell_type": "code",
   "execution_count": 4,
   "metadata": {
    "collapsed": false
   },
   "outputs": [
    {
     "name": "stdout",
     "output_type": "stream",
     "text": [
      "25164150\n"
     ]
    }
   ],
   "source": [
    "def sqr_of_sum():\n",
    "    total = 0\n",
    "    for x in range(1,101):\n",
    "        total = total + x\n",
    "    value = total*total\n",
    "    return value\n",
    "\n",
    "def sum_of_sqr():\n",
    "    total = 0\n",
    "    for x in range(1,101):\n",
    "        total = total + x*x\n",
    "    return total\n",
    "\n",
    "def main():\n",
    "    value1 = sqr_of_sum()\n",
    "    value2 = sum_of_sqr()\n",
    "    difference = value1 - value2\n",
    "    print(difference)\n",
    "        \n",
    "main()"
   ]
  },
  {
   "cell_type": "code",
   "execution_count": null,
   "metadata": {
    "collapsed": true
   },
   "outputs": [],
   "source": []
  }
 ],
 "metadata": {
  "kernelspec": {
   "display_name": "Python 3",
   "language": "python",
   "name": "python3"
  },
  "language_info": {
   "codemirror_mode": {
    "name": "ipython",
    "version": 3
   },
   "file_extension": ".py",
   "mimetype": "text/x-python",
   "name": "python",
   "nbconvert_exporter": "python",
   "pygments_lexer": "ipython3",
   "version": "3.4.0"
  }
 },
 "nbformat": 4,
 "nbformat_minor": 0
}
