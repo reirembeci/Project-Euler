{
 "cells": [
  {
   "cell_type": "code",
   "execution_count": 1,
   "metadata": {
    "collapsed": false
   },
   "outputs": [
    {
     "name": "stdout",
     "output_type": "stream",
     "text": [
      "104743\n"
     ]
    }
   ],
   "source": [
    "import math\n",
    "def check(x):\n",
    "    for n in range(2, math.ceil(math.sqrt(x))+1):\n",
    "        if x % n == 0:\n",
    "            x = x + 2\n",
    "            return(False)\n",
    "    return(True)\n",
    "\n",
    "def primes():\n",
    "    prime = [2,3]\n",
    "    x = 3\n",
    "    while(len(prime) < 10001):\n",
    "        x = x + 2\n",
    "        if (check(x) == True):\n",
    "            prime.append(x)\n",
    "    print(prime[-1])\n",
    "    \n",
    "primes()\n",
    "            \n",
    "\n",
    "\n",
    "\n",
    "    \n",
    "        \n",
    "        "
   ]
  },
  {
   "cell_type": "code",
   "execution_count": null,
   "metadata": {
    "collapsed": true
   },
   "outputs": [],
   "source": []
  }
 ],
 "metadata": {
  "kernelspec": {
   "display_name": "Python 3",
   "language": "python",
   "name": "python3"
  },
  "language_info": {
   "codemirror_mode": {
    "name": "ipython",
    "version": 3
   },
   "file_extension": ".py",
   "mimetype": "text/x-python",
   "name": "python",
   "nbconvert_exporter": "python",
   "pygments_lexer": "ipython3",
   "version": "3.4.0"
  }
 },
 "nbformat": 4,
 "nbformat_minor": 0
}
