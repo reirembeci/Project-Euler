{
 "cells": [
  {
   "cell_type": "code",
   "execution_count": 1,
   "metadata": {
    "collapsed": false
   },
   "outputs": [
    {
     "name": "stdout",
     "output_type": "stream",
     "text": [
      "76576500.0\n",
      "--- 8.702096223831177 seconds ---\n"
     ]
    }
   ],
   "source": [
    "import time\n",
    "import math\n",
    "def nr_divisors(number):\n",
    "    nr_div = 0\n",
    "    for div in range(1, math.ceil(math.sqrt(number))+1):\n",
    "        if (number % div == 0):\n",
    "            if (div != number/div):\n",
    "                nr_div += 2\n",
    "            else:\n",
    "                nr_div += 1\n",
    "    return(nr_div)\n",
    "    \n",
    "\n",
    "def main():\n",
    "    total = 0\n",
    "    i = 7\n",
    "    while True:\n",
    "        total = i*(i+1) / 2\n",
    "        answer = nr_divisors(total)\n",
    "        if answer > 500:\n",
    "            print(total)\n",
    "            break\n",
    "        else:\n",
    "            i += 1\n",
    "        \n",
    "start_time = time.time()                                 \n",
    "main()\n",
    "print(\"--- %s seconds ---\" % (time.time() - start_time))        "
   ]
  },
  {
   "cell_type": "code",
   "execution_count": null,
   "metadata": {
    "collapsed": true
   },
   "outputs": [],
   "source": []
  }
 ],
 "metadata": {
  "kernelspec": {
   "display_name": "Python 3",
   "language": "python",
   "name": "python3"
  },
  "language_info": {
   "codemirror_mode": {
    "name": "ipython",
    "version": 3
   },
   "file_extension": ".py",
   "mimetype": "text/x-python",
   "name": "python",
   "nbconvert_exporter": "python",
   "pygments_lexer": "ipython3",
   "version": "3.4.0"
  }
 },
 "nbformat": 4,
 "nbformat_minor": 0
}
