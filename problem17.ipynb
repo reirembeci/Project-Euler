{
 "cells": [
  {
   "cell_type": "code",
   "execution_count": 22,
   "metadata": {
    "collapsed": false
   },
   "outputs": [
    {
     "name": "stdout",
     "output_type": "stream",
     "text": [
      "21124\n"
     ]
    }
   ],
   "source": [
    "s_num = \"\"\"zero one two three four five six seven eight nine ten \n",
    "        eleven twelve thirteen fourteen fifteen sixteen seventeen eighteen nineteen\"\"\".split()\n",
    "tens = \"\"\"zero ten twenty thirty forty fifty sixty seventy eighty ninety\"\"\".split()\n",
    "\n",
    "# Converts numbers to their written form 0-1000 (inclusive)\n",
    "def convert(n):\n",
    "    try:\n",
    "        #n = int(n)\n",
    "        if n == 1000:\n",
    "            return(\"one thousand\")\n",
    "        elif n >= 100:\n",
    "            current = s_num[n // 100] + \" hundred\"\n",
    "            n = n % 100\n",
    "            if n == 0:\n",
    "                return(current)\n",
    "            else:\n",
    "                return(current + \" and \" + convert(n))\n",
    "        elif n >= 20:\n",
    "            current = tens[n // 10] \n",
    "            n = n % 10\n",
    "            if n == 0:\n",
    "                return(current)\n",
    "            else:\n",
    "                return(current + \"-\" + convert(n))\n",
    "        else:\n",
    "            return(s_num[n])\n",
    "    except(IndexError):\n",
    "        return(\"Please enter a number from 0 to 1000(inclusive).\")    \n",
    "        \n",
    "#word = convert(115).replace(\"-\",\"\").replace(\" \",\"\")\n",
    "#print(len(word))\n",
    "        \n",
    "def main():\n",
    "    total = 0\n",
    "    for num in range(1, 1001):\n",
    "        word = convert(num).replace(\"-\",\"\").replace(\" \",\"\")\n",
    "        total = total + len(word)\n",
    "    print(total)\n",
    "        \n",
    "main()   \n",
    "    \n"
   ]
  },
  {
   "cell_type": "code",
   "execution_count": null,
   "metadata": {
    "collapsed": true
   },
   "outputs": [],
   "source": []
  }
 ],
 "metadata": {
  "kernelspec": {
   "display_name": "Python 3",
   "language": "python",
   "name": "python3"
  },
  "language_info": {
   "codemirror_mode": {
    "name": "ipython",
    "version": 3
   },
   "file_extension": ".py",
   "mimetype": "text/x-python",
   "name": "python",
   "nbconvert_exporter": "python",
   "pygments_lexer": "ipython3",
   "version": "3.4.0"
  }
 },
 "nbformat": 4,
 "nbformat_minor": 0
}
