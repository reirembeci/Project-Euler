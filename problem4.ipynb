{
 "cells": [
  {
   "cell_type": "code",
   "execution_count": 13,
   "metadata": {
    "collapsed": false
   },
   "outputs": [
    {
     "name": "stdout",
     "output_type": "stream",
     "text": [
      "906609\n",
      "--- 0.3919868469238281 seconds ---\n"
     ]
    }
   ],
   "source": [
    "import time\n",
    "def palindrome(n):\n",
    "    first = str(n)\n",
    "    second = str(first[::-1])\n",
    "    if (first == second):\n",
    "        return(True)\n",
    "    else:\n",
    "        return(False)\n",
    "    \n",
    "def multi():\n",
    "    pali = []\n",
    "    x,y = 999,999\n",
    "    for x in range(999,300,-1):\n",
    "        for y in range(999,300,-1):\n",
    "            m = x*y\n",
    "            if (palindrome(m) == True):\n",
    "                pali.append(m)\n",
    "    print(max(pali))\n",
    "\n",
    "start_time = time.time()\n",
    "multi()\n",
    "print(\"--- %s seconds ---\" % (time.time() - start_time))"
   ]
  }
 ],
 "metadata": {
  "kernelspec": {
   "display_name": "Python 3",
   "language": "python",
   "name": "python3"
  },
  "language_info": {
   "codemirror_mode": {
    "name": "ipython",
    "version": 3
   },
   "file_extension": ".py",
   "mimetype": "text/x-python",
   "name": "python",
   "nbconvert_exporter": "python",
   "pygments_lexer": "ipython3",
   "version": "3.4.0"
  }
 },
 "nbformat": 4,
 "nbformat_minor": 0
}
