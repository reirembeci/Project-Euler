{
 "cells": [
  {
   "cell_type": "code",
   "execution_count": 4,
   "metadata": {
    "collapsed": false
   },
   "outputs": [
    {
     "name": "stdout",
     "output_type": "stream",
     "text": [
      "837799\n",
      "--- 26.620522022247314 seconds ---\n"
     ]
    }
   ],
   "source": [
    "## Note: Great method below using dictionaries !!!\n",
    "import time\n",
    "def collatz(num):\n",
    "    c = 1\n",
    "    while num != 1:\n",
    "        #print(num)\n",
    "        if num %2 == 0:\n",
    "            num = num//2\n",
    "            c += 1\n",
    "        else:\n",
    "            num = 3*num + 1\n",
    "            c += 1\n",
    "    #print(\"Length\", c)\n",
    "    return(c)\n",
    "\n",
    "def main():\n",
    "    answer = 2 \n",
    "    max_length = 1\n",
    "    right_answer = 0\n",
    "    while answer < 1000000:\n",
    "        length = collatz(answer)\n",
    "        if length > max_length:\n",
    "            max_length = length\n",
    "            right_answer = answer\n",
    "        answer += 1\n",
    "    print(right_answer)\n",
    "    \n",
    "start_time = time.time()                                     \n",
    "main()\n",
    "print(\"--- %s seconds ---\" % (time.time() - start_time))        "
   ]
  },
  {
   "cell_type": "code",
   "execution_count": 6,
   "metadata": {
    "collapsed": false
   },
   "outputs": [
    {
     "name": "stdout",
     "output_type": "stream",
     "text": [
      "837799\n",
      "--- 26.068407773971558 seconds ---\n"
     ]
    }
   ],
   "source": [
    "import time\n",
    "def collatz(num):\n",
    "    c = 1\n",
    "    while num != 1:\n",
    "        #print(num)\n",
    "        if num %2 == 0:\n",
    "            num = num//2\n",
    "            c += 1\n",
    "        else:\n",
    "            num = 3*num + 1\n",
    "            c += 1\n",
    "    #print(\"Length\", c)\n",
    "    return(c)\n",
    "\n",
    "def main():\n",
    "    #answer = 2 \n",
    "    max_length = 1\n",
    "    right_answer = 0\n",
    "    for i in range(1, 1000000):\n",
    "        length = collatz(i)\n",
    "        if length > max_length:\n",
    "            max_length = length\n",
    "            right_answer = i\n",
    "    print(right_answer)\n",
    "    \n",
    "start_time = time.time()                                     \n",
    "main()\n",
    "print(\"--- %s seconds ---\" % (time.time() - start_time))        "
   ]
  },
  {
   "cell_type": "code",
   "execution_count": 16,
   "metadata": {
    "collapsed": false
   },
   "outputs": [
    {
     "name": "stdout",
     "output_type": "stream",
     "text": [
      "837799\n",
      "--- 2.636669635772705 seconds ---\n"
     ]
    }
   ],
   "source": [
    "### INTERNET VERSION\n",
    "import time\n",
    "start_time = time.time()                                     \n",
    "\n",
    "def collatz(n): return n // 2 if n%2 == 0 else 3*n + 1\n",
    "\n",
    "def distance(n, cache={1:1}):\n",
    "    if n not in cache: cache[n] = distance(collatz(n)) + 1\n",
    "    return cache[n]\n",
    "\n",
    "print(max(range(1,1000000), key=distance))\n",
    "    \n",
    "print(\"--- %s seconds ---\" % (time.time() - start_time))        "
   ]
  },
  {
   "cell_type": "code",
   "execution_count": 24,
   "metadata": {
    "collapsed": false
   },
   "outputs": [
    {
     "name": "stdout",
     "output_type": "stream",
     "text": [
      "837799\n",
      "--- 2.583242416381836 seconds ---\n"
     ]
    }
   ],
   "source": [
    "import time\n",
    "def collatz(n, counter, init, dct):\n",
    "    if n < init:\n",
    "        dct[init] = dct[n] + counter\n",
    "        return dct[init]\n",
    "    elif n % 2 == 0:\n",
    "        return collatz(n//2, counter+1, init, dct)\n",
    "    else:\n",
    "        return collatz(3*n+1, counter+1, init, dct)\t\n",
    "    \n",
    "def highest_collatz_lt_n(n):\n",
    "    my_dict = {1:0, 2:1, 3:7, 4:2}\n",
    "    i = 2\n",
    "    counter = 1\n",
    "    while i < n:\n",
    "        collatz(i, 0, i, my_dict)\n",
    "        if my_dict[i] > my_dict[counter]:\n",
    "            counter = i\n",
    "        i += 1\n",
    "    print(counter)\n",
    "    \n",
    "start_time = time.time()                                     \n",
    "highest_collatz_lt_n(1000000)\n",
    "print(\"--- %s seconds ---\" % (time.time() - start_time))        "
   ]
  },
  {
   "cell_type": "code",
   "execution_count": null,
   "metadata": {
    "collapsed": true
   },
   "outputs": [],
   "source": []
  }
 ],
 "metadata": {
  "kernelspec": {
   "display_name": "Python 3",
   "language": "python",
   "name": "python3"
  },
  "language_info": {
   "codemirror_mode": {
    "name": "ipython",
    "version": 3
   },
   "file_extension": ".py",
   "mimetype": "text/x-python",
   "name": "python",
   "nbconvert_exporter": "python",
   "pygments_lexer": "ipython3",
   "version": "3.4.0"
  }
 },
 "nbformat": 4,
 "nbformat_minor": 0
}
