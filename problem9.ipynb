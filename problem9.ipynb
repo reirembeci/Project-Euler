{
 "cells": [
  {
   "cell_type": "code",
   "execution_count": 9,
   "metadata": {
    "collapsed": false
   },
   "outputs": [
    {
     "name": "stdout",
     "output_type": "stream",
     "text": [
      "200 375 425\n",
      "31875000\n",
      "--- 0.05683112144470215 seconds ---\n"
     ]
    }
   ],
   "source": [
    "import time\n",
    "def special_py():\n",
    "    for first in range(1,1000):\n",
    "        for second in range(first, 1000-first):\n",
    "            third = 1000 - first - second\n",
    "            if (1000*third + first*second == 500000):\n",
    "                print(first,second,third)\n",
    "                print(first*second*third)\n",
    "                \n",
    "start_time = time.time()                 \n",
    "special_py()\n",
    "print(\"--- %s seconds ---\" % (time.time() - start_time))"
   ]
  },
  {
   "cell_type": "code",
   "execution_count": 10,
   "metadata": {
    "collapsed": false
   },
   "outputs": [
    {
     "name": "stdout",
     "output_type": "stream",
     "text": [
      "200 375 425\n",
      "31875000\n",
      "--- 0.0002346038818359375 seconds ---\n"
     ]
    }
   ],
   "source": [
    "# Internet version\n",
    "import time\n",
    "def internet_specialpy():\n",
    "    for nr in range(1, 1000):\n",
    "        trial = (500000 - 1000*nr) / (1000 - nr)\n",
    "        if trial == int(trial):\n",
    "            break\n",
    "    trial = int(trial)\n",
    "    last = 1000 - nr - trial\n",
    "    print(nr, trial, last)\n",
    "    print(nr * trial * last)\n",
    "    \n",
    "start_time = time.time()                         \n",
    "internet_specialpy()\n",
    "print(\"--- %s seconds ---\" % (time.time() - start_time))"
   ]
  },
  {
   "cell_type": "code",
   "execution_count": null,
   "metadata": {
    "collapsed": true
   },
   "outputs": [],
   "source": []
  }
 ],
 "metadata": {
  "kernelspec": {
   "display_name": "Python 3",
   "language": "python",
   "name": "python3"
  },
  "language_info": {
   "codemirror_mode": {
    "name": "ipython",
    "version": 3
   },
   "file_extension": ".py",
   "mimetype": "text/x-python",
   "name": "python",
   "nbconvert_exporter": "python",
   "pygments_lexer": "ipython3",
   "version": "3.4.0"
  }
 },
 "nbformat": 4,
 "nbformat_minor": 0
}
