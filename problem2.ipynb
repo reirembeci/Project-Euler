{
 "cells": [
  {
   "cell_type": "code",
   "execution_count": 16,
   "metadata": {
    "collapsed": false,
    "scrolled": true
   },
   "outputs": [
    {
     "name": "stdout",
     "output_type": "stream",
     "text": [
      "4613732\n"
     ]
    }
   ],
   "source": [
    "l = [1, 2]\n",
    "def fib(first, second):\n",
    "    next = first + second\n",
    "    if next < 4000000:\n",
    "        l.append(next)\n",
    "        fib(second, next)\n",
    "    return(l)\n",
    "        \n",
    "def main(answer):\n",
    "    sum = 0\n",
    "    for number in answer:\n",
    "        if number % 2 == 0:\n",
    "            sum = sum + number\n",
    "    print(sum)\n",
    "    \n",
    "main(fib(1,2))"
   ]
  },
  {
   "cell_type": "code",
   "execution_count": null,
   "metadata": {
    "collapsed": true
   },
   "outputs": [],
   "source": []
  }
 ],
 "metadata": {
  "kernelspec": {
   "display_name": "Python 3",
   "language": "python",
   "name": "python3"
  },
  "language_info": {
   "codemirror_mode": {
    "name": "ipython",
    "version": 3
   },
   "file_extension": ".py",
   "mimetype": "text/x-python",
   "name": "python",
   "nbconvert_exporter": "python",
   "pygments_lexer": "ipython3",
   "version": "3.4.0"
  }
 },
 "nbformat": 4,
 "nbformat_minor": 0
}
