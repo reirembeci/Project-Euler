{
 "cells": [
  {
   "cell_type": "code",
   "execution_count": 110,
   "metadata": {
    "collapsed": false
   },
   "outputs": [
    {
     "name": "stdout",
     "output_type": "stream",
     "text": [
      "70600674\n",
      "--- 0.0021677017211914062 seconds ---\n"
     ]
    }
   ],
   "source": [
    "import time\n",
    "grid = [[0 for x in range(20)] for y in range(20)] \n",
    "\n",
    "def main():\n",
    "    # creating a python grid using arrays\n",
    "    infile = open(\"20x20grid-prb11.txt\", \"r\")\n",
    "    x,y = 0,0\n",
    "    # for every line in the grid\n",
    "    for line in infile:\n",
    "        nr = line.split()\n",
    "        # get every number\n",
    "        for val in nr:\n",
    "            # add it to our grid\n",
    "            val = int(val)\n",
    "            grid[x][y] = val\n",
    "            y += 1\n",
    "            # if we reach the end of the first line, move to the second one\n",
    "            if (y == 20):\n",
    "                y = 0\n",
    "                x += 1\n",
    "    #print(grid)\n",
    "    \n",
    "    # checking horizontally\n",
    "    maximum = 1\n",
    "    for x in range(0, 20):\n",
    "        for y in range(0, 17):\n",
    "            product = 1\n",
    "            for multipliers in range(y, y+4):\n",
    "                product = product * grid[x][multipliers]\n",
    "                if product > maximum:\n",
    "                    maximum = product\n",
    "    \n",
    "    # checking vertically \n",
    "    for x in range(0, 17):\n",
    "        for y in range(0, 20):\n",
    "            product = 1\n",
    "            for multipliers in range(x, x+4):\n",
    "                product = product * grid[multipliers][y]\n",
    "                if product > maximum:\n",
    "                    maximum = product    \n",
    "    \n",
    "    # checking diagonally (left to right)\n",
    "    for x in range(0, 17):\n",
    "        for y in range(0, 17):\n",
    "            product = 1\n",
    "            a,b = x,y\n",
    "            for m in range(0,4):\n",
    "                product = product * grid[a][b]                \n",
    "                a += 1\n",
    "                b += 1\n",
    "                if product > maximum:\n",
    "                    maximum = product\n",
    "    \n",
    "    # checking diagonally (right to left)\n",
    "    for x in range(0, 17):\n",
    "        for y in range(3, 20):\n",
    "            product = 1\n",
    "            a,b = x,y\n",
    "            for m in range(0,4):\n",
    "                product = product * grid[a][b]\n",
    "                a += 1\n",
    "                b -= 1\n",
    "                if product > maximum:\n",
    "                    maximum = product\n",
    "    print(maximum)\n",
    "                \n",
    "                \n",
    "                             \n",
    "start_time = time.time()                         \n",
    "main()\n",
    "print(\"--- %s seconds ---\" % (time.time() - start_time))"
   ]
  },
  {
   "cell_type": "code",
   "execution_count": null,
   "metadata": {
    "collapsed": true
   },
   "outputs": [],
   "source": []
  }
 ],
 "metadata": {
  "kernelspec": {
   "display_name": "Python 3",
   "language": "python",
   "name": "python3"
  },
  "language_info": {
   "codemirror_mode": {
    "name": "ipython",
    "version": 3
   },
   "file_extension": ".py",
   "mimetype": "text/x-python",
   "name": "python",
   "nbconvert_exporter": "python",
   "pygments_lexer": "ipython3",
   "version": "3.4.0"
  }
 },
 "nbformat": 4,
 "nbformat_minor": 0
}
