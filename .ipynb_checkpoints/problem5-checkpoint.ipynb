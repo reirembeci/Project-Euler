{
 "cells": [
  {
   "cell_type": "code",
   "execution_count": 18,
   "metadata": {
    "collapsed": false
   },
   "outputs": [
    {
     "name": "stdout",
     "output_type": "stream",
     "text": [
      "137846528820.0\n"
     ]
    }
   ],
   "source": [
    "# Using combinatorics -> The question simplifies to : in how many ways can we choose N of 2N possible places\n",
    "# if the order doesn't matter\n",
    "\n",
    "# Credits to: http://www.mathblog.dk\n",
    "\n",
    "def paths():\n",
    "    grid = 20\n",
    "    path_nr = 1\n",
    "    for i in range(1, grid+1):\n",
    "        path_nr = path_nr * ((grid + i))\n",
    "        path_nr = path_nr / (i)\n",
    "    print(path_nr)\n",
    "        \n",
    "paths()"
   ]
  },
  {
   "cell_type": "code",
   "execution_count": null,
   "metadata": {
    "collapsed": true
   },
   "outputs": [],
   "source": []
  }
 ],
 "metadata": {
  "kernelspec": {
   "display_name": "Python 3",
   "language": "python",
   "name": "python3"
  },
  "language_info": {
   "codemirror_mode": {
    "name": "ipython",
    "version": 3
   },
   "file_extension": ".py",
   "mimetype": "text/x-python",
   "name": "python",
   "nbconvert_exporter": "python",
   "pygments_lexer": "ipython3",
   "version": "3.4.0"
  }
 },
 "nbformat": 4,
 "nbformat_minor": 0
}
